{
 "cells": [
  {
   "cell_type": "code",
   "execution_count": 13,
   "metadata": {},
   "outputs": [],
   "source": [
    "from dotenv import load_dotenv\n",
    "# Load environment variables from .env file\n",
    "load_dotenv()\n",
    "\n",
    "from IPython.display import Markdown"
   ]
  },
  {
   "cell_type": "markdown",
   "metadata": {},
   "source": [
    "# Create analysts"
   ]
  },
  {
   "cell_type": "code",
   "execution_count": 3,
   "metadata": {},
   "outputs": [
    {
     "data": {
      "image/png": "[encoded data removed]",
      "text/plain": [
       "<IPython.core.display.Image object>"
      ]
     },
     "metadata": {},
     "output_type": "display_data"
    }
   ],
   "source": [
    "from langgraph.graph import START, END, StateGraph\n",
    "from langgraph.checkpoint.memory import MemorySaver\n",
    "from IPython.display import Image, display\n",
    "\n",
    "from nodes.analysts import create_analysts, GenerateAnalystsState\n",
    "\n",
    "\n",
    "# Add nodes and edges \n",
    "builder = StateGraph(GenerateAnalystsState)\n",
    "builder.add_node(\"create_analysts\", create_analysts)\n",
    "builder.add_edge(START, \"create_analysts\")\n",
    "builder.add_edge(\"create_analysts\", END)\n",
    "\n",
    "memory = MemorySaver()\n",
    "graph = builder.compile(checkpointer=memory)\n",
    "\n",
    "# View graph\n",
    "display(Image(graph.get_graph(xray=1).draw_mermaid_png()))"
   ]
  },
  {
   "cell_type": "code",
   "execution_count": null,
   "metadata": {},
   "outputs": [
    {
     "name": "stdout",
     "output_type": "stream",
     "text": [
      "{'topic': 'The benefits of adopting LangGraph as an agent framework', 'max_analysts': 3}\n",
      "{'topic': 'The benefits of adopting LangGraph as an agent framework', 'max_analysts': 3, 'analysts': [Analyst(affiliation='Tech Innovations Inc.', name='Dr. Emily Chen', role='AI Research Scientist', description='Dr. Chen focuses on the technical advancements in AI frameworks, particularly how LangGraph enhances agent-based systems through improved natural language processing capabilities.'), Analyst(affiliation='Business Strategy Group', name='Michael Thompson', role='Business Analyst', description='Michael analyzes the market implications of adopting new technologies like LangGraph, emphasizing its potential to streamline operations and improve decision-making in businesses.'), Analyst(affiliation='Open Source Community', name='Sara Patel', role='Community Advocate', description='Sara represents the open-source perspective, discussing the collaborative benefits of LangGraph and how it fosters innovation and accessibility in AI development.')]}\n"
     ]
    }
   ],
   "source": [
    "# Input\n",
    "max_analysts = 3 \n",
    "topic = \"The benefits of adopting LangGraph as an agent framework\"\n",
    "thread = {\"configurable\": {\"thread_id\": \"2\"}}\n",
    "\n",
    "# Run the graph until the first interruption\n",
    "for event in graph.stream({\"topic\":topic,\"max_analysts\":max_analysts,}, thread, stream_mode=\"values\"):\n",
    "    analysts = event.get('analysts', '')\n",
    "    if analysts:\n",
    "        for analyst in analysts:\n",
    "            print(f\"Name: {analyst.name}\")\n",
    "            print(f\"Affiliation: {analyst.affiliation}\")\n",
    "            print(f\"Role: {analyst.role}\")\n",
    "            print(f\"Description: {analyst.description}\")\n",
    "            print(\"-\" * 50)"
   ]
  },
  {
   "cell_type": "markdown",
   "metadata": {},
   "source": [
    "# Interview"
   ]
  },
  {
   "cell_type": "code",
   "execution_count": 16,
   "metadata": {},
   "outputs": [
    {
     "data": {
      "image/png": "[encoded data removed]",
      "text/plain": [
       "<IPython.core.display.Image object>"
      ]
     },
     "metadata": {},
     "output_type": "display_data"
    }
   ],
   "source": [
    "from langgraph.graph import START, END, StateGraph\n",
    "from langgraph.checkpoint.memory import MemorySaver\n",
    "from IPython.display import Image, display\n",
    "\n",
    "from nodes.interview import generate_question, InterviewState\n",
    "\n",
    "\n",
    "# Add nodes and edges \n",
    "builder = StateGraph(InterviewState)\n",
    "builder.add_node(\"generate_question\", generate_question)\n",
    "builder.add_edge(START, \"generate_question\")\n",
    "builder.add_edge(\"generate_question\", END)\n",
    "\n",
    "memory = MemorySaver()\n",
    "graph = builder.compile(checkpointer=memory)\n",
    "\n",
    "# View graph\n",
    "display(Image(graph.get_graph(xray=1).draw_mermaid_png()))"
   ]
  },
  {
   "cell_type": "code",
   "execution_count": 24,
   "metadata": {},
   "outputs": [
    {
     "name": "stdout",
     "output_type": "stream",
     "text": [
      "{'messages': [HumanMessage(content='So you said you were writing an article on The benefits of adopting LangGraph as an agent framework?', additional_kwargs={}, response_metadata={})], 'analyst': Analyst(affiliation='Tech Innovations Inc.', name='Dr. Emily Chen', role='AI Research Scientist', description='Dr. Chen focuses on the technical advancements in AI frameworks, particularly in how LangGraph enhances agent-based systems through improved natural language processing capabilities.')}\n",
      "================================\u001b[1m Human Message \u001b[0m=================================\n",
      "\n",
      "So you said you were writing an article on The benefits of adopting LangGraph as an agent framework?\n",
      "{'messages': [HumanMessage(content='So you said you were writing an article on The benefits of adopting LangGraph as an agent framework?', additional_kwargs={}, response_metadata={}), AIMessage(content=\"Hello! I'm Dr. Emily Chen, and yes, I'm currently exploring the benefits of adopting LangGraph as an agent framework. My focus is on how it enhances natural language processing capabilities in agent-based systems. \\n\\nTo start, could you share what you find to be the most surprising advantage of LangGraph compared to other AI frameworks?\", additional_kwargs={'refusal': None}, response_metadata={'token_usage': {'completion_tokens': 67, 'prompt_tokens': 283, 'total_tokens': 350, 'completion_tokens_details': {'accepted_prediction_tokens': 0, 'audio_tokens': 0, 'reasoning_tokens': 0, 'rejected_prediction_tokens': 0}, 'prompt_tokens_details': {'audio_tokens': 0, 'cached_tokens': 0}}, 'model_name': 'gpt-4o-mini-2024-07-18', 'system_fingerprint': 'fp_7fcd609668', 'finish_reason': 'stop', 'logprobs': None}, name='Dr. Emily Chen', id='run-27b27156-39a8-4c44-9aef-7a2b3d86d195-0', usage_metadata={'input_tokens': 283, 'output_tokens': 67, 'total_tokens': 350, 'input_token_details': {'audio': 0, 'cache_read': 0}, 'output_token_details': {'audio': 0, 'reasoning': 0}})], 'analyst': Analyst(affiliation='Tech Innovations Inc.', name='Dr. Emily Chen', role='AI Research Scientist', description='Dr. Chen focuses on the technical advancements in AI frameworks, particularly in how LangGraph enhances agent-based systems through improved natural language processing capabilities.')}\n",
      "================================\u001b[1m Human Message \u001b[0m=================================\n",
      "\n",
      "So you said you were writing an article on The benefits of adopting LangGraph as an agent framework?\n",
      "==================================\u001b[1m Ai Message \u001b[0m==================================\n",
      "Name: Dr. Emily Chen\n",
      "\n",
      "Hello! I'm Dr. Emily Chen, and yes, I'm currently exploring the benefits of adopting LangGraph as an agent framework. My focus is on how it enhances natural language processing capabilities in agent-based systems. \n",
      "\n",
      "To start, could you share what you find to be the most surprising advantage of LangGraph compared to other AI frameworks?\n"
     ]
    }
   ],
   "source": [
    "from langchain_core.messages import HumanMessage\n",
    "\n",
    "# Input\n",
    "analyst = analysts[0]\n",
    "messages = [\n",
    "    HumanMessage(f\"So you said you were writing an article on {topic}?\")\n",
    "]\n",
    "thread = {\"configurable\": {\"thread_id\": \"7\"}}\n",
    "\n",
    "# Run the graph until the first interruption\n",
    "for event in graph.stream({\"analyst\":analyst, \"messages\": messages}, thread, stream_mode=\"values\"):\n",
    "    print(event)\n",
    "    for msg in event.get('messages', []):\n",
    "        msg.pretty_print()"
   ]
  },
  {
   "cell_type": "code",
   "execution_count": null,
   "metadata": {},
   "outputs": [],
   "source": []
  }
 ],
 "metadata": {
  "kernelspec": {
   "display_name": "langchain",
   "language": "python",
   "name": "python3"
  },
  "language_info": {
   "codemirror_mode": {
    "name": "ipython",
    "version": 3
   },
   "file_extension": ".py",
   "mimetype": "text/x-python",
   "name": "python",
   "nbconvert_exporter": "python",
   "pygments_lexer": "ipython3",
   "version": "3.11.10"
  }
 },
 "nbformat": 4,
 "nbformat_minor": 2
}
