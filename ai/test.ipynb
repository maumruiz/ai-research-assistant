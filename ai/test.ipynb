{
 "cells": [
  {
   "cell_type": "code",
   "execution_count": 123,
   "metadata": {},
   "outputs": [],
   "source": [
    "from IPython.display import Markdown, display\n",
    "import json"
   ]
  },
  {
   "cell_type": "code",
   "execution_count": 38,
   "metadata": {},
   "outputs": [],
   "source": [
    "from langgraph_sdk import get_client\n",
    "\n",
    "# Connect via SDK\n",
    "url_for_cli_deployment = \"http://localhost:8123\"\n",
    "client = get_client(url=url_for_cli_deployment)"
   ]
  },
  {
   "cell_type": "code",
   "execution_count": 136,
   "metadata": {},
   "outputs": [],
   "source": [
    "def show_chunk_result(chunk):\n",
    "    if chunk.data and chunk.event != \"metadata\" and len(chunk.data[\"parent_ids\"]) == 1:\n",
    "        event_type = chunk.data[\"event\"]\n",
    "        node_name = chunk.data[\"name\"]\n",
    "        data = chunk.data[\"data\"]\n",
    "\n",
    "        if event_type == \"on_chain_start\":\n",
    "            print(f\"Node '{node_name}' execution started.\")\n",
    "            # print(json.dumps(chunk, indent=2))\n",
    "        elif event_type == \"on_chain_end\":\n",
    "            print(f\"Node '{node_name}' execution ended.\")\n",
    "            # print(json.dumps(chunk, indent=2))\n",
    "        elif event_type == \"on_chain_stream\":\n",
    "            print(f\"Node '{node_name}' Stream.\")\n",
    "            # print(json.dumps(chunk, indent=2))\n",
    "            analysts = data[\"chunk\"].get('analysts', '')\n",
    "            if analysts:\n",
    "                for analyst in analysts:\n",
    "                    print(f\"Name: {analyst['name']}\")\n",
    "                    print(f\"Affiliation: {analyst['affiliation']}\")\n",
    "                    print(f\"Role: {analyst['role']}\")\n",
    "                    print(f\"Description: {analyst['description']}\")\n",
    "                    print(\"-\" * 50)\n",
    "            final_report = data[\"chunk\"].get('final_report', '')\n",
    "            if final_report:\n",
    "                display(Markdown(final_report))\n"
   ]
  },
  {
   "cell_type": "markdown",
   "metadata": {},
   "source": [
    "Initial call to the graph"
   ]
  },
  {
   "cell_type": "code",
   "execution_count": 137,
   "metadata": {},
   "outputs": [
    {
     "name": "stdout",
     "output_type": "stream",
     "text": [
      "Thread ID: ab6fcabd-c9e9-4c6d-a943-46cec9159eb0\n",
      "Node 'create_analysts' execution started.\n",
      "Node 'create_analysts' Stream.\n",
      "Name: Alex Thompson\n",
      "Affiliation: Game Review Hub\n",
      "Role: Game Critic\n",
      "Description: Alex focuses on evaluating the narrative and artistic elements of comfy and simulation games, emphasizing player experience and emotional engagement.\n",
      "--------------------------------------------------\n",
      "Name: Jordan Lee\n",
      "Affiliation: Gamer Insights\n",
      "Role: Market Analyst\n",
      "Description: Jordan analyzes market trends and player demographics, providing insights into the popularity and sales potential of comfy and simulation games on Steam.\n",
      "--------------------------------------------------\n",
      "Name: Samira Patel\n",
      "Affiliation: Tech & Play\n",
      "Role: Technical Analyst\n",
      "Description: Samira examines the technological aspects of game development, including graphics, mechanics, and user interface design, to assess how these elements contribute to the comfort and immersive experience of games.\n",
      "--------------------------------------------------\n",
      "Node 'create_analysts' execution ended.\n"
     ]
    }
   ],
   "source": [
    "max_analysts = 3\n",
    "topic = \"The best comfy and simulation games of 2024 in steam\"\n",
    "config = {\"configurable\": {\"user_id\": \"test2\"}}\n",
    "graph_name = \"researcher\"\n",
    "\n",
    "thread = await client.threads.create()\n",
    "print(f\"Thread ID: {thread['thread_id']}\")\n",
    "\n",
    "chunks = []\n",
    "async for chunk in client.runs.stream(thread[\"thread_id\"], graph_name, input={\"topic\":topic, \"max_analysts\":max_analysts}, stream_mode=\"events\", config=config):\n",
    "    chunks.append(chunk)\n",
    "    try:   \n",
    "        show_chunk_result(chunk)\n",
    "    except Exception as e:\n",
    "        print(f\"Error: {e}\")\n",
    "        print(chunk)\n",
    "        break"
   ]
  },
  {
   "cell_type": "code",
   "execution_count": null,
   "metadata": {},
   "outputs": [],
   "source": [
    "# for chunk in chunks:\n",
    "#     try:   \n",
    "#         show_chunk_result(chunk)\n",
    "#     except Exception as e:\n",
    "#         print(f\"Error: {e}\")\n",
    "#         print(chunk)\n",
    "#         break\n"
   ]
  },
  {
   "cell_type": "markdown",
   "metadata": {},
   "source": [
    "Give human feedback and run again"
   ]
  },
  {
   "cell_type": "code",
   "execution_count": 138,
   "metadata": {},
   "outputs": [
    {
     "name": "stdout",
     "output_type": "stream",
     "text": [
      "Node 'create_analysts' execution started.\n",
      "Node 'create_analysts' Stream.\n",
      "Name: Liam Carter\n",
      "Affiliation: Indie Game Community\n",
      "Role: Indie Game Enthusiast\n",
      "Description: Liam is passionate about discovering and promoting indie games that offer unique and cozy experiences. He focuses on gameplay mechanics, artistic styles, and community engagement, aiming to highlight hidden gems in the indie game scene.\n",
      "--------------------------------------------------\n",
      "Name: Sophie Chen\n",
      "Affiliation: Gaming Trends Blog\n",
      "Role: Simulation Game Specialist\n",
      "Description: Sophie analyzes the latest simulation games, focusing on their immersive qualities and player engagement. She is particularly interested in how these games create relaxing environments and foster creativity among players.\n",
      "--------------------------------------------------\n",
      "Name: Ethan Rivera\n",
      "Affiliation: Steam User Reviews\n",
      "Role: Casual Gamer Advocate\n",
      "Description: Ethan represents the voice of casual gamers on Steam, emphasizing the importance of comfort and accessibility in gaming. He reviews games based on user-friendliness, community feedback, and overall enjoyment, aiming to guide players towards the most relaxing gaming experiences.\n",
      "--------------------------------------------------\n",
      "Node 'create_analysts' execution ended.\n"
     ]
    }
   ],
   "source": [
    "analysts_feedback = \"Instead of the game critic, add an indie game player\"\n",
    "\n",
    "await client.threads.update_state(\n",
    "  thread[\"thread_id\"],\n",
    "  {\"human_analyst_feedback\": analysts_feedback},\n",
    "  as_node=\"human_feedback\"\n",
    ")\n",
    "\n",
    "async for chunk in client.runs.stream(thread[\"thread_id\"], graph_name, stream_mode=\"events\"):\n",
    "    try:   \n",
    "        show_chunk_result(chunk)\n",
    "    except Exception as e:\n",
    "        print(f\"Error: {e}\")\n",
    "        print(json.dumps(chunk, indent=2))\n",
    "        break"
   ]
  },
  {
   "cell_type": "markdown",
   "metadata": {},
   "source": [
    "Continue the graph execution when there is no more feedback"
   ]
  },
  {
   "cell_type": "code",
   "execution_count": 139,
   "metadata": {},
   "outputs": [
    {
     "name": "stdout",
     "output_type": "stream",
     "text": [
      "Node 'conduct_interview' execution started.\n",
      "Node 'conduct_interview' execution started.\n",
      "Node 'conduct_interview' execution started.\n",
      "Node 'conduct_interview' Stream.\n",
      "Node 'conduct_interview' execution ended.\n",
      "Node 'conduct_interview' Stream.\n",
      "Node 'conduct_interview' execution ended.\n",
      "Node 'conduct_interview' Stream.\n",
      "Node 'conduct_interview' execution ended.\n",
      "Node 'write_report' execution started.\n",
      "Node 'write_introduction' execution started.\n",
      "Node 'write_conclusion' execution started.\n",
      "Node 'write_conclusion' Stream.\n",
      "Node 'write_conclusion' execution ended.\n",
      "Node 'write_introduction' Stream.\n",
      "Node 'write_introduction' execution ended.\n",
      "Node 'write_report' Stream.\n",
      "Node 'write_report' execution ended.\n",
      "Node 'finalize_report' execution started.\n",
      "Node 'finalize_report' Stream.\n"
     ]
    },
    {
     "data": {
      "text/markdown": [
       "# Embracing Comfort: The Best Comfy and Simulation Games of 2024 on Steam\n",
       "\n",
       "## Introduction\n",
       "\n",
       "As the gaming landscape evolves, 2024 has emerged as a remarkable year for cozy and simulation games on Steam. This report delves into the charm of cozy indie games, highlighting their emphasis on relaxation, creativity, and community engagement. We explore standout titles that prioritize comfort, such as city-building simulators and productivity games designed for a laid-back experience. Additionally, we examine the allure of immersive environments and customization options that define this genre. With a growing community of players seeking solace in these virtual spaces, cozy gaming is not just a trend—it's a movement that enriches the gaming experience.\n",
       "\n",
       "---\n",
       "\n",
       "\n",
       "The cozy gaming genre has seen a remarkable rise in popularity in 2024, particularly on platforms like Steam, where players are increasingly drawn to experiences that prioritize relaxation, creativity, and community engagement. This shift reflects a broader trend in the gaming landscape, as casual gamers seek refuge from the high-pressure environments often associated with mainstream titles.\n",
       "\n",
       "Cozy indie games are characterized by their charming aesthetics and engaging gameplay mechanics, which allow players to unwind while participating in light-hearted activities. Notable titles emerging in 2024 include city-building simulators that enable players to create quaint towns filled with adorable characters, as well as productivity games designed for the \"vibe crowd,\" featuring extensive customization options and soothing soundtracks [1]. These games emphasize simplicity and creativity, fostering a sense of ownership and satisfaction without the pressure of traditional gaming objectives.\n",
       "\n",
       "The immersive environments created by cozy games are enhanced by their aesthetic appeal and calming audio. Players can design unique spaces that reflect their personal style, contributing to a rewarding gameplay experience. The soothing soundscapes and music options available in these games further enhance their relaxing qualities, making them ideal for unwinding after a long day [1]. \n",
       "\n",
       "The growing community surrounding cozy gaming is also noteworthy. Curators and content creators actively promote upcoming titles, helping players discover new experiences that deliver comforting vibes. Games like \"Hello Kitty Island Adventure\" and \"CraftCraft: Fantasy Merchant Simulator\" are gaining attention, showcasing the genre's diversity and appeal [2]. This community-driven approach fosters a sense of belonging among players who seek solace in these virtual spaces, reinforcing the idea that cozy games are not just a niche but a staple for many.\n",
       "\n",
       "Popular titles such as \"Stardew Valley\" and \"Animal Crossing: New Horizons\" continue to be recommended for their engaging yet low-pressure gameplay, making them ideal for casual gamers [5]. The extensive hours of gameplay invested in cozy titles suggest that their appeal extends beyond mere relaxation; they also provide opportunities for shared experiences and community interaction [3]. \n",
       "\n",
       "In conclusion, cozy simulation games are redefining the gaming landscape by offering players a chance to relax, create, and connect. Their immersive qualities and focus on player engagement resonate with a wide audience, providing a much-needed escape from the stresses of everyday life. As the genre continues to evolve, upcoming titles like \"Fields of Mistria,\" \"Pine Hearts,\" and \"Garden Life: A Cozy Simulator\" promise to enrich the cozy gaming experience even further [6].\n",
       "\n",
       "\n",
       "---\n",
       "\n",
       "## Conclusion\n",
       "\n",
       "As we navigate through 2024, the cozy gaming genre on Steam continues to thrive, offering players a delightful escape from the pressures of traditional gaming. This report has highlighted the charm of cozy indie games, showcasing titles that prioritize relaxation, creativity, and community engagement. From city-building simulators to immersive productivity games, the variety of experiences available caters to a wide audience seeking comfort and connection. The growing recognition of cozy games as a legitimate genre reflects a broader trend in gaming, where emotional well-being takes precedence. As players embrace these soothing experiences, the cozy gaming community is set to flourish, inviting more individuals to discover the joy of unwinding in beautifully crafted virtual worlds.\n",
       "\n",
       "## Sources\n",
       "[1] https://store.steampowered.com/curator/42587990-Just-Some-Cozy-Gaming/?snr=1_1050_curatorsreviewing_  \n",
       "[2] https://store.steampowered.com/curator/43535555-Camp-Cozy-Games/?snr=1_1050_curatorsreviewing_  \n",
       "[3] https://www.youtube.com/watch?v=2tla2XjiV0c  \n",
       "[4] https://www.wired.com/gallery/best-cozy-games/  \n",
       "[5] https://www.self.com/story/best-cozy-games  \n",
       "[6] https://www.dualshockers.com/best-cozy-games-of-2024/"
      ],
      "text/plain": [
       "<IPython.core.display.Markdown object>"
      ]
     },
     "metadata": {},
     "output_type": "display_data"
    },
    {
     "name": "stdout",
     "output_type": "stream",
     "text": [
      "Node 'finalize_report' execution ended.\n"
     ]
    }
   ],
   "source": [
    "await client.threads.update_state(\n",
    "  thread[\"thread_id\"], \n",
    "  {\"human_analyst_feedback\": None},\n",
    "  as_node=\"human_feedback\"\n",
    ")\n",
    "\n",
    "async for chunk in client.runs.stream(thread[\"thread_id\"], graph_name, stream_mode=\"events\"):\n",
    "    try:   \n",
    "        show_chunk_result(chunk)\n",
    "    except Exception as e:\n",
    "        print(f\"Error: {e}\")\n",
    "        print(chunk)\n",
    "        break"
   ]
  },
  {
   "cell_type": "code",
   "execution_count": null,
   "metadata": {},
   "outputs": [],
   "source": []
  }
 ],
 "metadata": {
  "kernelspec": {
   "display_name": "langchain",
   "language": "python",
   "name": "python3"
  },
  "language_info": {
   "codemirror_mode": {
    "name": "ipython",
    "version": 3
   },
   "file_extension": ".py",
   "mimetype": "text/x-python",
   "name": "python",
   "nbconvert_exporter": "python",
   "pygments_lexer": "ipython3",
   "version": "3.11.10"
  }
 },
 "nbformat": 4,
 "nbformat_minor": 2
}
